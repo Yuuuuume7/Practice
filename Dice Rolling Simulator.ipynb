{
 "cells": [
  {
   "cell_type": "code",
   "execution_count": 1,
   "id": "ca0f396e-40d2-44a4-a168-bb475a13b06b",
   "metadata": {},
   "outputs": [],
   "source": [
    "import tkinter\n",
    "import random\n",
    "from PIL import Image, ImageTk"
   ]
  },
  {
   "cell_type": "code",
   "execution_count": 2,
   "id": "e1b4525b-fd65-467d-bb38-e529c8d21706",
   "metadata": {},
   "outputs": [
    {
     "data": {
      "text/plain": [
       "''"
      ]
     },
     "execution_count": 2,
     "metadata": {},
     "output_type": "execute_result"
    }
   ],
   "source": [
    "#top level widget which represents the main window of an application\n",
    "root = tkinter.Tk()\n",
    "root.geometry('400x400')\n",
    "root.title('Dice Rolling')"
   ]
  },
  {
   "cell_type": "code",
   "execution_count": 5,
   "id": "d7901d85-6c8a-471c-9949-6058a48fdb98",
   "metadata": {},
   "outputs": [],
   "source": [
    "#adding label into the frame\n",
    "Blankline = tkinter.Label(root, text = \"\")\n",
    "Blankline.pack()\n",
    "\n",
    "Headline = tkinter.Label(root, text = \"Welcome to Dice Rolling\",\n",
    "                        fg = \"light green\",\n",
    "                        bg = \"dark green\",\n",
    "                        font = \"Helvetica 16 bold italic\")\n",
    "Headline.pack()\n"
   ]
  },
  {
   "cell_type": "code",
   "execution_count": 6,
   "id": "1f85733b-25a8-4d1f-8376-283ad3dea0d9",
   "metadata": {},
   "outputs": [],
   "source": [
    "#image\n",
    "dice = ['die1.png', 'die2.png', 'die3.png', 'die4.png', 'die5.png', 'die6.png']\n",
    "\n",
    "#simulating the dice with random numbers between 0 to 6 and generating image\n",
    "DiceImage = ImageTk.PhotoImage(Image.open(random.choice(dice)))\n",
    "\n",
    "#construct a label widget for image\n",
    "ImageLabel = tkinter.Label(root, image=DiceImage)\n",
    "ImageLabel.image = DiceImage\n",
    "\n",
    "#packing a widget in the parent wiget\n",
    "ImageLabel.pack( expand=True)"
   ]
  },
  {
   "cell_type": "code",
   "execution_count": 8,
   "id": "7d29d30b-1ebf-4b01-ab82-0b473cd433a5",
   "metadata": {},
   "outputs": [],
   "source": [
    "#function activated by button\n",
    "def rolling_dice():\n",
    "    DiceImage = ImageTk.PhotoImage(Image.open(random.choice(dice)))\n",
    "    \n",
    "    #update image\n",
    "    ImageLabel.configure(image=DiceImage)\n",
    "    #keep a reference\n",
    "    ImageLabel.image = DiceImage\n",
    "    \n",
    "#adding button, and command will use rolling_dice function\n",
    "button = tkinter.Button(root, text = 'Roll the Dice',\n",
    "                        fg = 'blue', command = rolling_dice)\n",
    "\n",
    "#pack a widget in the parent widget\n",
    "button.pack( expand=True)"
   ]
  },
  {
   "cell_type": "raw",
   "id": "8e8d202a-0bac-4496-b8e3-849cc74530a1",
   "metadata": {},
   "source": []
  },
  {
   "cell_type": "code",
   "execution_count": 9,
   "id": "fc2a0f01-6363-40de-901c-1d9573320e3b",
   "metadata": {},
   "outputs": [],
   "source": [
    "root.mainloop()"
   ]
  },
  {
   "cell_type": "code",
   "execution_count": null,
   "id": "c7464ba5-4a22-4f99-8cb1-fcc30545c5d9",
   "metadata": {},
   "outputs": [],
   "source": []
  }
 ],
 "metadata": {
  "kernelspec": {
   "display_name": "Python 3 (ipykernel)",
   "language": "python",
   "name": "python3"
  },
  "language_info": {
   "codemirror_mode": {
    "name": "ipython",
    "version": 3
   },
   "file_extension": ".py",
   "mimetype": "text/x-python",
   "name": "python",
   "nbconvert_exporter": "python",
   "pygments_lexer": "ipython3",
   "version": "3.9.7"
  }
 },
 "nbformat": 4,
 "nbformat_minor": 5
}
