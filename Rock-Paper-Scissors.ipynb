{
 "cells": [
  {
   "cell_type": "code",
   "execution_count": 1,
   "id": "d5b95c74-b3e1-439c-9421-66a888e176e1",
   "metadata": {},
   "outputs": [],
   "source": [
    "import tkinter\n",
    "import random"
   ]
  },
  {
   "cell_type": "code",
   "execution_count": 2,
   "id": "da2cbf64-e6ff-45d3-9c4f-55812433c177",
   "metadata": {},
   "outputs": [],
   "source": [
    "from tkinter import *"
   ]
  },
  {
   "cell_type": "code",
   "execution_count": 3,
   "id": "62da02b6-852d-48c0-9098-e4af98f54035",
   "metadata": {},
   "outputs": [],
   "source": [
    "root = Tk()\n",
    "root.geometry('400x400')\n",
    "root.resizable(0,0)\n",
    "root.title('Rock,Paper,Scissors')\n",
    "root.config(bg = 'seashell3')"
   ]
  },
  {
   "cell_type": "code",
   "execution_count": 4,
   "id": "c568eadb-4478-4a7a-abad-57cff184a207",
   "metadata": {},
   "outputs": [],
   "source": [
    "Label(root, text = 'Rock, Paper, Scissors', font = 'arial 20 bold', bg = 'seashell2').pack()"
   ]
  },
  {
   "cell_type": "code",
   "execution_count": 5,
   "id": "030d1560-ad5c-4eb8-999a-536d01a0b214",
   "metadata": {},
   "outputs": [],
   "source": [
    "user_take = StringVar()\n",
    "Label(root, text = 'choose any one: rock, paper, scissors').place(x = 90, y = 70)\n",
    "Entry(root, font = 'arial 15', textvariable = user_take , bg = 'antiquewhite2').place(x = 90, y = 130)"
   ]
  },
  {
   "cell_type": "code",
   "execution_count": 6,
   "id": "3ae2e5c5-b7c9-4d36-b925-db77715a198f",
   "metadata": {},
   "outputs": [],
   "source": [
    "comp_pick = random.randint(1,3)\n",
    "if comp_pick == 1:\n",
    "    comp_pick = 'rock'\n",
    "elif comp_pick == 2:\n",
    "    comp_pick = 'paper'\n",
    "else:\n",
    "    comp_pick = 'scissors'"
   ]
  },
  {
   "cell_type": "code",
   "execution_count": 7,
   "id": "e7b4f564-8c10-4d9e-958c-d07e93b86e54",
   "metadata": {},
   "outputs": [],
   "source": [
    "Result = StringVar()\n",
    "\n",
    "def play():\n",
    "    user_pick = user_take.get()\n",
    "    if user_pick == comp_pick:\n",
    "        Result.set('tie, you both select same')\n",
    "    elif user_pick == 'rock' and comp_pick == 'paper':\n",
    "        Result.set('you loose, computer select paper')\n",
    "    elif user_pick == 'rock' and comp_pick == 'scissors':\n",
    "        Result.set('you win, computer select scissors')\n",
    "    elif user_pick == 'paper' and comp_pick == 'scissors':\n",
    "        Result.set('you loose, computer select scissors')\n",
    "    elif user_pick == 'paper' and comp_pick == 'rock':\n",
    "        Result.set('you win, computer select rock')\n",
    "    elif user_pick == 'scissors' and comp_pick == 'rock':\n",
    "        Result.set('you loose, computer select rock')\n",
    "    elif user_pick == 'scissors' and comp_pick == 'paper':\n",
    "        Result.set('you win, computer select paper')\n",
    "    else:\n",
    "        Result.set('invalid: choose any one -- rock, paper, scissors')"
   ]
  },
  {
   "cell_type": "code",
   "execution_count": 8,
   "id": "730b238a-8e77-4a7e-9f4e-24437d8ecbcc",
   "metadata": {},
   "outputs": [],
   "source": [
    "def Reset():\n",
    "    Result.set(\"\")\n",
    "    user_take.set(\"\")"
   ]
  },
  {
   "cell_type": "code",
   "execution_count": 9,
   "id": "7907ffce-cfb3-462f-8f2e-8a682ab3c945",
   "metadata": {},
   "outputs": [],
   "source": [
    "def Exit():\n",
    "    root.destroy()"
   ]
  },
  {
   "cell_type": "code",
   "execution_count": 10,
   "id": "36991a24-a189-42ac-9487-babb53082f2b",
   "metadata": {},
   "outputs": [],
   "source": [
    "Entry(root, font = 'arial 10 bold', textvariable = Result, bg = 'antiquewhite2', width = 50,).place(x = 25, y = 250)\n",
    "Button(root, font = 'arial 13 bold', text = 'PLAY', padx = 5, bg ='seashell4', command = play).place(x = 150, y = 190)\n",
    "Button(root, font = 'arial 13 bold', text = 'RESET', padx = 5, bg ='seashell4', command = Reset).place(x = 70, y = 310)\n",
    "Button(root, font = 'arial 13 bold', text = 'EXIT', padx = 5, bg ='seashell4', command = Exit).place(x = 230, y = 310)\n",
    "\n",
    "root.mainloop()"
   ]
  },
  {
   "cell_type": "code",
   "execution_count": null,
   "id": "1ed789ec-a586-4889-b78e-e56607d65baf",
   "metadata": {},
   "outputs": [],
   "source": []
  },
  {
   "cell_type": "code",
   "execution_count": null,
   "id": "87be2ece-9b1e-46a1-b94f-cea7243d11dc",
   "metadata": {},
   "outputs": [],
   "source": []
  }
 ],
 "metadata": {
  "kernelspec": {
   "display_name": "Python 3 (ipykernel)",
   "language": "python",
   "name": "python3"
  },
  "language_info": {
   "codemirror_mode": {
    "name": "ipython",
    "version": 3
   },
   "file_extension": ".py",
   "mimetype": "text/x-python",
   "name": "python",
   "nbconvert_exporter": "python",
   "pygments_lexer": "ipython3",
   "version": "3.9.7"
  }
 },
 "nbformat": 4,
 "nbformat_minor": 5
}
